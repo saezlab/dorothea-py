{
 "cells": [
  {
   "cell_type": "markdown",
   "metadata": {},
   "source": [
    "# TF activity inference from scRNA-seq data with DoRothEA as regulon resource"
   ]
  },
  {
   "cell_type": "markdown",
   "metadata": {},
   "source": [
    "## Introduction\n",
    "\n",
    "DoRothEA is a comprehensive resource containing a curated collection of transcription factors (TFs) and its transcriptional targets. The set of genes regulated by a specific transcription factor is known as regulon. DoRothEA’s regulons were gathered from different types of evidence. Each TF-target interaction is defined by a confidence level based on the number of supporting evidence. The confidence levels ranges from A (highest confidence) to E (lowest confidence) (Garcia-Alonso et al. 2019). DoRothEA regulons are usually coupled with a footprint-based enrichment method to compute TF activities based on the levels of expression of their target genes (Dugourd and Saez-Rodriguez 2019). For an introduction to Footprint-based enrichment analysis please visit this other [notebook](https://github.com/saezlab/dorothea-py/blob/main/example/dorothea_introduction.ipynb) and if you are interested in how different algorithms perform consider checking [DecoupleR](https://github.com/saezlab/decoupleR). \n",
    "\n",
    "Holland et al. (2020) evaluated the performance of DoRothEA when applied to scRNA-seq data. We showed that, in spite of the current limitations of scRNA-seq technologies, their approach can provide meaningful results in this context. Indeed, this vignette shows an example on how to apply DoRothEA regulons coupled with the statistic normalized mean in a well known single-cell dataset."
   ]
  },
  {
   "cell_type": "markdown",
   "metadata": {},
   "source": [
    "Here we load the packages required to run this notebook."
   ]
  },
  {
   "cell_type": "code",
   "execution_count": 1,
   "metadata": {},
   "outputs": [],
   "source": [
    "import pandas as pd\n",
    "import numpy as np\n",
    "import scanpy as sc\n",
    "from anndata import AnnData\n",
    "import dorothea\n",
    "import matplotlib.pyplot as plt"
   ]
  },
  {
   "cell_type": "markdown",
   "metadata": {},
   "source": [
    "## Single-cell RNA-seq dataset"
   ]
  },
  {
   "cell_type": "markdown",
   "metadata": {},
   "source": [
    "### Data description"
   ]
  },
  {
   "cell_type": "markdown",
   "metadata": {},
   "source": [
    "In the following paragraphs, we provide examples describing how to run DoRothEA regulons in a scRNA-seq dataset using the Scanpy toolkit for single cell genomics (Wolf et al. 2018). For the sake of simplicity, we follow the example provided in the following Scanpy vignette:\n",
    "\n",
    "https://scanpy-tutorials.readthedocs.io/en/latest/pbmc3k.html\n",
    "\n",
    "The dataset contains 2700 Peripheral Blood Mononuclear Cells (PBMC) that were sequenced on the Illumina NextSeq 500. This dataset is freely available in 10X Genomics:\n",
    "\n",
    "https://cf.10xgenomics.com/samples/cell/pbmc3k/pbmc3k_filtered_gene_bc_matrices.tar.gz\n",
    "\n",
    "On a unix system, you can uncomment and run the following to download and unpack the data:"
   ]
  },
  {
   "cell_type": "code",
   "execution_count": 2,
   "metadata": {},
   "outputs": [],
   "source": [
    "#!mkdir data\n",
    "#!wget http://cf.10xgenomics.com/samples/cell-exp/1.1.0/pbmc3k/pbmc3k_filtered_gene_bc_matrices.tar.gz -O data/pbmc3k_filtered_gene_bc_matrices.tar.gz\n",
    "#!cd data; tar -xzf pbmc3k_filtered_gene_bc_matrices.tar.gz"
   ]
  },
  {
   "cell_type": "code",
   "execution_count": 3,
   "metadata": {},
   "outputs": [],
   "source": [
    "adata = sc.read_10x_mtx(\n",
    "    'data/filtered_gene_bc_matrices/hg19/',\n",
    "    var_names='gene_symbols',                \n",
    "    cache=True)                              \n",
    "adata.var_names_make_unique()"
   ]
  },
  {
   "cell_type": "markdown",
   "metadata": {},
   "source": [
    "### Pre-processing, normalization and identification of highly variable features"
   ]
  },
  {
   "cell_type": "markdown",
   "metadata": {},
   "source": [
    "We follow the standard pre-processing steps as described in the aforementioned Scanpy vignette before going deeper into the data analysis. These steps carry out the selection and filtration of cells based on quality control metrics, the data normalization and scaling, and the detection of highly variable features."
   ]
  },
  {
   "cell_type": "code",
   "execution_count": 4,
   "metadata": {},
   "outputs": [],
   "source": [
    "# Basic filtering\n",
    "sc.pp.filter_cells(adata, min_genes=200)\n",
    "sc.pp.filter_genes(adata, min_cells=3)\n",
    "\n",
    "# Annotate the group of mitochondrial genes as 'mt'\n",
    "adata.var['mt'] = adata.var_names.str.startswith('MT-')  \n",
    "sc.pp.calculate_qc_metrics(adata, qc_vars=['mt'], percent_top=None, log1p=False, inplace=True)\n",
    "\n",
    "# Filter cells following standard QC criteria.\n",
    "adata = adata[adata.obs.n_genes_by_counts < 2500, :]\n",
    "adata = adata[adata.obs.pct_counts_mt < 5, :]\n",
    "\n",
    "# Store raw counts\n",
    "adata.layers[\"counts\"] = adata.X\n",
    "\n",
    "# Normalize the data\n",
    "sc.pp.normalize_total(adata, target_sum=1e4)\n",
    "sc.pp.log1p(adata)\n",
    "\n",
    "# Identify the 2000 most highly variable genes\n",
    "sc.pp.highly_variable_genes(adata, min_mean=0.0125, max_mean=3, min_disp=0.5)\n",
    "\n",
    "# Filter higly variable genes\n",
    "adata.raw = adata\n",
    "adata = adata[:, adata.var.highly_variable]\n",
    "\n",
    "# Regress and scale the data\n",
    "sc.pp.regress_out(adata, ['total_counts', 'pct_counts_mt'])\n",
    "sc.pp.scale(adata, max_value=10)"
   ]
  },
  {
   "cell_type": "markdown",
   "metadata": {},
   "source": [
    "### Clustering cells"
   ]
  },
  {
   "cell_type": "markdown",
   "metadata": {},
   "source": [
    "One of the most relevant steps in scRNA-seq data analysis is clustering. Cells are grouped based on the similarity of their transcription profiles. We first apply the Scanpy approach as described in their aforementioned tutorial. We visualize the cell clusters using UMAP:"
   ]
  },
  {
   "cell_type": "code",
   "execution_count": null,
   "metadata": {},
   "outputs": [],
   "source": [
    "sc.tl.pca(adata, svd_solver='arpack')\n",
    "sc.pp.neighbors(adata, n_neighbors=10, n_pcs=40)\n",
    "sc.tl.umap(adata)\n",
    "sc.tl.leiden(adata)\n",
    "\n",
    "new_cluster_names = [\n",
    "    'CD4 T',\n",
    "    'CD14 Monocytes',\n",
    "    'B',\n",
    "    'CD8 T',\n",
    "    'NK',\n",
    "    'FCGR3A Monocytes',\n",
    "    'Dendritic',\n",
    "    'Megakaryocytes'\n",
    "]\n",
    "\n",
    "\n",
    "adata.rename_categories('leiden', new_cluster_names)\n",
    "adata.obs[\"cell_type\"] = adata.obs['leiden']"
   ]
  },
  {
   "cell_type": "code",
   "execution_count": null,
   "metadata": {},
   "outputs": [],
   "source": [
    "sc.set_figure_params(figsize=(8,8))\n",
    "sc.pl.umap(adata, color='cell_type', title='RNA UMAP', \n",
    "           frameon=False, legend_fontweight='normal', legend_fontsize=15)"
   ]
  },
  {
   "cell_type": "markdown",
   "metadata": {},
   "source": [
    "## TF activity prediction"
   ]
  },
  {
   "cell_type": "markdown",
   "metadata": {},
   "source": [
    "### Method"
   ]
  },
  {
   "cell_type": "markdown",
   "metadata": {},
   "source": [
    "As previously mentioned, DoRothEA’s regulons can be coupled to any foot-print based enrichment analysis statistic to estimate TF activities from expression data. Specifically, in this package we implemented the mean expression controlled by permutations. Given a TF regulon with $n$ number of target genes $g = (g_1, ... g_n)$ and weights $w = (w_1, ... w_n)$, its estimated activity is defined as:\n",
    "\n",
    "$ E = \\frac{\\sum_{i=1}^{n}{g_i w_i}}{n} $\n",
    "\n",
    "Activities are normalized by $n$ to control for large regulons. Moreover, to control for false estimations we calculate the probability of observing the estimated activity by chance, by performing $m$ permutations:\n",
    "\n",
    "$pval = \\frac{\\sum_{i=1}^{m}{\\left\\lvert R_i \\right\\rvert > \\left\\lvert E \\right\\rvert}}{m}$\n",
    "\n",
    "Where $R_i$ is the predicted activity using $n$ random target genes. Finally, the final TF activity $A$ is calculated by weighting $E$ by its $pval$:\n",
    "\n",
    "$A = E * -\\log_{10}(pval)$\n",
    "\n",
    "Therefore, cells will show high absolute values of TF activity if their estimate is robust, otherwise their predicted activity will be close to 0. "
   ]
  },
  {
   "cell_type": "markdown",
   "metadata": {},
   "source": [
    "### Prediction"
   ]
  },
  {
   "cell_type": "markdown",
   "metadata": {},
   "source": [
    "To predict TF activities, first we need to load the DoRothEA network (only available for Human and Mouse):"
   ]
  },
  {
   "cell_type": "code",
   "execution_count": null,
   "metadata": {},
   "outputs": [],
   "source": [
    "regulons = dorothea.load_regulons(\n",
    "    ['A','B','C'],   # Which levels of confidence to use (A most confident, E least confident)\n",
    "    organism='Human' # If working with mouse, set to Mouse\n",
    ")"
   ]
  },
  {
   "cell_type": "markdown",
   "metadata": {},
   "source": [
    "We recommend to use the log-normalized values of the high variable genes for the TF activity estimation. To run the method use:"
   ]
  },
  {
   "cell_type": "code",
   "execution_count": null,
   "metadata": {},
   "outputs": [],
   "source": [
    "dorothea.run(adata,        # Data to use\n",
    "             regulons,     # Dorothea network\n",
    "             center=True,  # Center gene expression by mean per cell\n",
    "             num_perm=100, # Simulate m random activities\n",
    "             norm=True,    # Normalize by number of edges to correct for large regulons\n",
    "             scale=True,   # Scale values per feature so that values can be compared across cells\n",
    "             use_raw=True, # Use raw adata, where we have the lognorm gene expression\n",
    "             use_hvg=True, # Only use high variable genes for TF estimation\n",
    "             min_size=5,   # TF with less than 5 targets will be ignored\n",
    "            )"
   ]
  },
  {
   "cell_type": "markdown",
   "metadata": {},
   "source": [
    "The resulting activities are stored in the `.obsm` attribute of an `AnnData` object. To access them use the key `dorothea`:"
   ]
  },
  {
   "cell_type": "code",
   "execution_count": null,
   "metadata": {},
   "outputs": [],
   "source": [
    "adata.obsm['dorothea']"
   ]
  },
  {
   "cell_type": "markdown",
   "metadata": {},
   "source": [
    "Or use `extract` to return an AnnData object to be able to use scanpy's amazing plotting functions:"
   ]
  },
  {
   "cell_type": "code",
   "execution_count": null,
   "metadata": {},
   "outputs": [],
   "source": [
    "dorothea.extract(adata)"
   ]
  },
  {
   "cell_type": "markdown",
   "metadata": {},
   "source": [
    "## Foot-print based methods robustness"
   ]
  },
  {
   "cell_type": "markdown",
   "metadata": {},
   "source": [
    "Downstream transcriptional targets of a TF yield a much more robust estimation of the TF activity than just observing the expression of the TF itself. To test this, we will compare the levels of expression of STAT3 with its predicted activity. STAT3 is a TF essential for natural killer (NK) development and activation. Therefore, we would expect that NK cells should have a higher value of activation than other cell types."
   ]
  },
  {
   "cell_type": "code",
   "execution_count": null,
   "metadata": {},
   "outputs": [],
   "source": [
    "fig, ax = plt.subplots(2,2, figsize=(8,8), tight_layout=True, facecolor='white')\n",
    "ax = ax.flatten()\n",
    "\n",
    "tf = 'STAT3'\n",
    "fig.suptitle(tf, fontsize=16)\n",
    "sc.pl.violin(adata, keys=tf, groupby='cell_type', stripplot=False, ax=ax[0], show=False)\n",
    "ax[0].tick_params(axis='x', rotation=90, labelsize=10)\n",
    "ax[0].set_ylabel('')\n",
    "ax[0].set_xlabel('')\n",
    "ax[0].set_title('Gene expression')\n",
    "\n",
    "sc.pl.violin(dorothea.extract(adata), keys=tf, groupby='cell_type', stripplot=False, ax=ax[1], show=False)\n",
    "ax[1].tick_params(axis='x', rotation=90, labelsize=10)\n",
    "ax[1].set_ylabel('')\n",
    "ax[1].set_xlabel('')\n",
    "ax[1].set_title('TF activity')\n",
    "\n",
    "sc.pl.umap(adata, color=tf, return_fig=False, ax=ax[2], show=False)\n",
    "ax[2].set_title('Gene expression')\n",
    "sc.pl.umap(dorothea.extract(adata), color=tf, vmin=-5, vmax=5, cmap='coolwarm', return_fig=False, ax=ax[3], show=False)\n",
    "ax[3].set_title('TF activity')\n",
    "\n",
    "plt.show()"
   ]
  },
  {
   "cell_type": "markdown",
   "metadata": {},
   "source": [
    "As expected, NK cells show a high predicted TF activity for STAT3. However, by looking at gene expression it would not be as obvious since very few cells show expression of the STAT3 gene. Another example is PAX5, a master regulator of B cells:"
   ]
  },
  {
   "cell_type": "code",
   "execution_count": null,
   "metadata": {},
   "outputs": [],
   "source": [
    "fig, ax = plt.subplots(2,2, figsize=(8,8), tight_layout=True, facecolor='white')\n",
    "ax = ax.flatten()\n",
    "\n",
    "tf = 'PAX5'\n",
    "fig.suptitle(tf, fontsize=16)\n",
    "sc.pl.violin(adata, keys=tf, groupby='cell_type', stripplot=False, ax=ax[0], show=False)\n",
    "ax[0].tick_params(axis='x', rotation=90, labelsize=10)\n",
    "ax[0].set_ylabel('')\n",
    "ax[0].set_xlabel('')\n",
    "ax[0].set_title('Gene expression')\n",
    "\n",
    "sc.pl.violin(dorothea.extract(adata), keys=tf, groupby='cell_type', stripplot=False, ax=ax[1], show=False)\n",
    "ax[1].tick_params(axis='x', rotation=90, labelsize=10)\n",
    "ax[1].set_ylabel('')\n",
    "ax[1].set_xlabel('')\n",
    "ax[1].set_title('TF activity')\n",
    "\n",
    "sc.pl.umap(adata, color=tf, return_fig=False, ax=ax[2], show=False)\n",
    "ax[2].set_title('Gene expression')\n",
    "sc.pl.umap(dorothea.extract(adata), color=tf, vmin=-5, vmax=5, cmap='coolwarm', return_fig=False, ax=ax[3], show=False)\n",
    "ax[3].set_title('TF activity')\n",
    "\n",
    "plt.show()"
   ]
  },
  {
   "cell_type": "markdown",
   "metadata": {},
   "source": [
    "Based only in gene expression, very few B cells show expression of PAX5. On the contrary, DoRothEA’s regulons correctly predicts that many of the B cells show activity of this TF. Therefore, foot-print based methods allow for robust TF activity, even when no gene expression for that TF is available. This makes foot-print based methods very attractive for singe cell, since they can deal with drop-outs. "
   ]
  },
  {
   "cell_type": "markdown",
   "metadata": {},
   "source": [
    "## Comparison of TF activities between groups"
   ]
  },
  {
   "cell_type": "markdown",
   "metadata": {},
   "source": [
    "Once TF activities are predicted, we can perform comparison tests to check if there are differences between groups. To do, we have implemented a wrapper for the Wilcoxon rank-sum test. Let's find what TFs show specific activity for NK cells:"
   ]
  },
  {
   "cell_type": "code",
   "execution_count": null,
   "metadata": {},
   "outputs": [],
   "source": [
    "df = dorothea.rank_tfs_groups(adata, groupby='cell_type', group='NK')\n",
    "df"
   ]
  },
  {
   "cell_type": "markdown",
   "metadata": {},
   "source": [
    "As expected, STAT3 appears at the top of the TF with significant changes of activity from the rest of cells. Let's do the same for B cells:"
   ]
  },
  {
   "cell_type": "code",
   "execution_count": null,
   "metadata": {},
   "outputs": [],
   "source": [
    "df = dorothea.rank_tfs_groups(adata, groupby='cell_type', group='B')\n",
    "df"
   ]
  },
  {
   "cell_type": "markdown",
   "metadata": {},
   "source": [
    "Again, PAX5 appears at the top 10 list of TFs that change significantly from other cell types. Interestingly, RFX5, responsible for the production of MHC class II, is also at the top. Let's check which TF define the Monocyte lineage:"
   ]
  },
  {
   "cell_type": "code",
   "execution_count": null,
   "metadata": {},
   "outputs": [],
   "source": [
    "df = dorothea.rank_tfs_groups(adata, groupby='cell_type', group=['CD14 Monocytes', 'FCGR3A Monocytes', 'Dendritic'], reference='all')\n",
    "df"
   ]
  },
  {
   "cell_type": "markdown",
   "metadata": {},
   "source": [
    "SPI1 appears as the top ranked which is a TF that controls the development of Monocytes. Finally, let's plot the top activated TF per cell type:"
   ]
  },
  {
   "cell_type": "code",
   "execution_count": null,
   "metadata": {},
   "outputs": [],
   "source": [
    "tfs = dict()\n",
    "for cell_type in adata.obs.cell_type.cat.categories:\n",
    "    df = dorothea.rank_tfs_groups(adata, groupby='cell_type', group=cell_type)\n",
    "    tf = df.head(1).index.values\n",
    "    tfs[cell_type] = tf\n",
    "    \n",
    "sc.pl.matrixplot(dorothea.extract(adata), tfs, 'cell_type', dendrogram=True, cmap='coolwarm', vmin=-2, vmax=2)"
   ]
  },
  {
   "cell_type": "markdown",
   "metadata": {},
   "source": [
    "## Clustering cells with TF activity"
   ]
  },
  {
   "cell_type": "markdown",
   "metadata": {},
   "source": [
    "Holland et al. (2020) showed that clustering the cells based on their TF activity profiles can also be very interesting. "
   ]
  },
  {
   "cell_type": "code",
   "execution_count": null,
   "metadata": {},
   "outputs": [],
   "source": [
    "proj_adata = dorothea.extract(adata)\n",
    "proj_adata = proj_adata[:, np.sum(proj_adata.X, axis=0) != 0]\n",
    "sc.tl.pca(proj_adata, svd_solver='arpack')\n",
    "sc.pp.neighbors(proj_adata, n_pcs=10)\n",
    "sc.tl.umap(proj_adata)\n",
    "sc.tl.leiden(proj_adata)"
   ]
  },
  {
   "cell_type": "code",
   "execution_count": null,
   "metadata": {},
   "outputs": [],
   "source": [
    "fig, ax = plt.subplots(2,2, figsize=(15,10), tight_layout=True, facecolor='white')\n",
    "ax = ax.flatten()\n",
    "\n",
    "sc.pl.umap(adata, color='cell_type', \n",
    "           return_fig=False, \n",
    "           ax=ax[0], \n",
    "           show=False, \n",
    "           frameon=True, \n",
    "           title='RNA UMAP cell type'\n",
    "          )\n",
    "\n",
    "sc.pl.umap(proj_adata, color='cell_type', \n",
    "           return_fig=False, \n",
    "           ax=ax[1], \n",
    "           show=False, \n",
    "           frameon=True,\n",
    "           title='TF UMAP cell type'\n",
    "          )\n",
    "\n",
    "ax[2].axis('off')\n",
    "\n",
    "sc.pl.umap(proj_adata, \n",
    "           color='leiden', \n",
    "           return_fig=False, \n",
    "           ax=ax[3], \n",
    "           show=False, \n",
    "           frameon=True, \n",
    "           title='TF UMAP Leiden'\n",
    "          )\n",
    "plt.show()"
   ]
  },
  {
   "cell_type": "markdown",
   "metadata": {},
   "source": [
    "The obtained projection based on TF activities is able to recover the major cell lineages. After applying unsupervised clustering, there seem to be different subclusters which might be interesting to further explore."
   ]
  },
  {
   "cell_type": "markdown",
   "metadata": {},
   "source": [
    "## Session info"
   ]
  },
  {
   "cell_type": "code",
   "execution_count": null,
   "metadata": {},
   "outputs": [],
   "source": [
    "sc.logging.print_versions(file=None)"
   ]
  },
  {
   "cell_type": "markdown",
   "metadata": {},
   "source": [
    "# References\n",
    "\n",
    "- Dugourd, Aurelien, and Julio Saez-Rodriguez. 2019. “Footprint-Based Functional Analysis of Multiomic Data.” Current Opinion in Systems Biology 15 (June): 82–90. https://doi.org/10.1016/j.coisb.2019.04.002.\n",
    "\n",
    "\n",
    "- Garcia-Alonso, Luz, Christian H. Holland, Mahmoud M. Ibrahim, Denes Turei, and Julio Saez-Rodriguez. 2019. “Benchmark and Integration of Resources for the Estimation of Human Transcription Factor Activities.” Genome Research 29 (8): 1363–75. https://doi.org/10.1101/gr.240663.118.\n",
    "\n",
    "\n",
    "- Holland, Christian H., Jovan Tanevski, Javier Perales-Patón, Jan Gleixner, Manu P. Kumar, Elisabetta Mereu, Brian A. Joughin, et al. 2020. “Robustness and Applicability of Transcription Factor and Pathway Analysis Tools on Single-Cell RNA-Seq Data.” Genome Biology 21 (1). https://doi.org/10.1186/s13059-020-1949-z. \n",
    "\n",
    "- Wolf, Alexander, Angerer, Philipp and Theis, Fabian. 2018.\"SCANPY: large-scale single-cell gene expression data analysis\". Genome Biology 19 (15). https://doi.org/10.1186/s13059-017-1382-0"
   ]
  }
 ],
 "metadata": {
  "kernelspec": {
   "display_name": "sc",
   "language": "python",
   "name": "sc"
  },
  "language_info": {
   "codemirror_mode": {
    "name": "ipython",
    "version": 3
   },
   "file_extension": ".py",
   "mimetype": "text/x-python",
   "name": "python",
   "nbconvert_exporter": "python",
   "pygments_lexer": "ipython3",
   "version": "3.8.8"
  }
 },
 "nbformat": 4,
 "nbformat_minor": 4
}
